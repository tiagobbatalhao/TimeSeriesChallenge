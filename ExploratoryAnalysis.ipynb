{
 "cells": [
  {
   "cell_type": "markdown",
   "metadata": {},
   "source": [
    "# Exploratory analysis\n",
    "\n",
    "Kaggle competition https://www.kaggle.com/c/recruit-restaurant-visitor-forecasting"
   ]
  },
  {
   "cell_type": "code",
   "execution_count": 1,
   "metadata": {},
   "outputs": [],
   "source": [
    "import pylab as py\n",
    "import pandas as pandas\n",
    "%matplotlib inline\n",
    "from datetime import datetime\n",
    "import seaborn as sns"
   ]
  },
  {
   "cell_type": "markdown",
   "metadata": {},
   "source": [
    "I have initially aggregated data with some SQL queries to match restaurant information with reservation data. This is written in a different file and the results are summarized in CSV files. "
   ]
  },
  {
   "cell_type": "code",
   "execution_count": 2,
   "metadata": {},
   "outputs": [],
   "source": [
    "try:\n",
    "    file_reservations = open('reservations.csv','r')\n",
    "    file_visits = open('visits.csv','r')\n",
    "except FileNotFoundError:\n",
    "    %run \"CombineRestaurantsWithSQL\"\n",
    "    file_reservations = open('reservations.csv','r')\n",
    "    file_visits = open('visits.csv','r')\n",
    "reservations = pandas.read_csv('reservations.csv')\n",
    "visits = pandas.read_csv('visits.csv')"
   ]
  },
  {
   "cell_type": "markdown",
   "metadata": {},
   "source": [
    "Each reservation contains information about \n",
    "* Time when the reservation was requested.\n",
    "* Time for the restaurant visit.\n",
    "* Number of people to visit.\n",
    "* Restaurant.\n",
    "\n",
    "There are two reservation services, AIR and HPG. The most popular is HPG, by far, with 2 million reservations compared to 90k reservations by AIR."
   ]
  },
  {
   "cell_type": "code",
   "execution_count": 3,
   "metadata": {},
   "outputs": [
    {
     "name": "stdout",
     "output_type": "stream",
     "text": [
      "<class 'pandas.core.frame.DataFrame'>\n",
      "RangeIndex: 2092698 entries, 0 to 2092697\n",
      "Data columns (total 14 columns):\n",
      "service             object\n",
      "hpg_store_id        object\n",
      "air_store_id        object\n",
      "visit_datetime      object\n",
      "reserve_datetime    object\n",
      "reserve_visitors    int64\n",
      "hpg_genre_name      object\n",
      "hpg_area_name       object\n",
      "air_genre_name      object\n",
      "air_area_name       object\n",
      "hpg_latitude        float64\n",
      "hpg_longitude       float64\n",
      "air_latitude        float64\n",
      "air_longitude       float64\n",
      "dtypes: float64(4), int64(1), object(9)\n",
      "memory usage: 223.5+ MB\n"
     ]
    }
   ],
   "source": [
    "reservations.info()"
   ]
  },
  {
   "cell_type": "code",
   "execution_count": 4,
   "metadata": {},
   "outputs": [],
   "source": [
    "reserves_onlyHPG_byHPG = reservations[(~py.isnan(reservations['hpg_latitude']))&(py.isnan(reservations['air_latitude']))&(reservations['service']=='HPG')]\n",
    "reserves_onlyHPG_byAIR = reservations[(~py.isnan(reservations['hpg_latitude']))&(py.isnan(reservations['air_latitude']))&(reservations['service']=='AIR')]\n",
    "reserves_onlyAIR_byHPG = reservations[(py.isnan(reservations['hpg_latitude']))&(~py.isnan(reservations['air_latitude']))&(reservations['service']=='HPG')]\n",
    "reserves_onlyAIR_byAIR = reservations[(py.isnan(reservations['hpg_latitude']))&(~py.isnan(reservations['air_latitude']))&(reservations['service']=='AIR')]\n",
    "reserves_both_byHPG = reservations[(~py.isnan(reservations['hpg_latitude']))&(~py.isnan(reservations['air_latitude']))&(reservations['service']=='HPG')]\n",
    "reserves_both_byAIR = reservations[(~py.isnan(reservations['hpg_latitude']))&(~py.isnan(reservations['air_latitude']))&(reservations['service']=='AIR')]\n",
    "reserves_neither_byHPG = reservations[(py.isnan(reservations['hpg_latitude']))&(py.isnan(reservations['air_latitude']))&(reservations['service']=='HPG')]\n",
    "reserves_neither_byAIR = reservations[(~py.isnan(reservations['hpg_latitude']))&(~py.isnan(reservations['air_latitude']))&(reservations['service']=='AIR')]"
   ]
  },
  {
   "cell_type": "code",
   "execution_count": 5,
   "metadata": {},
   "outputs": [
    {
     "name": "stdout",
     "output_type": "stream",
     "text": [
      "Number of reservations and store information:\n",
      "  13528 ( 0.6 %) reservations with store information from HPG and AIR, made by HPG\n",
      "  16154 ( 0.8 %) reservations with store information from HPG and AIR, made by AIR\n",
      " 857780 (41.0 %) reservations with store information from HPG only, made by HPG\n",
      "      0 ( 0.0 %) reservations with store information from HPG only, made by AIR\n",
      "      0 ( 0.0 %) reservations with store information from AIR only, made by HPG\n",
      "  56114 ( 2.7 %) reservations with store information from AIR only, made by AIR\n",
      "1129012 (54.0 %) reservations with no store information, made by HPG\n",
      "  16154 ( 0.8 %) reservations with no store information, made by AIR\n"
     ]
    }
   ],
   "source": [
    "print('Number of reservations and store information:')\n",
    "total = len(reservations)\n",
    "this = len(reserves_both_byHPG)\n",
    "print('{:7d} ({:4.1f} %) reservations with store information from HPG and AIR, made by HPG'.format(this, this/total*100))\n",
    "this = len(reserves_both_byAIR)\n",
    "print('{:7d} ({:4.1f} %) reservations with store information from HPG and AIR, made by AIR'.format(this, this/total*100))\n",
    "this = len(reserves_onlyHPG_byHPG)\n",
    "print('{:7d} ({:4.1f} %) reservations with store information from HPG only, made by HPG'.format(this, this/total*100))\n",
    "this = len(reserves_onlyHPG_byAIR)\n",
    "print('{:7d} ({:4.1f} %) reservations with store information from HPG only, made by AIR'.format(this, this/total*100))\n",
    "this = len(reserves_onlyAIR_byHPG)\n",
    "print('{:7d} ({:4.1f} %) reservations with store information from AIR only, made by HPG'.format(this, this/total*100))\n",
    "this = len(reserves_onlyAIR_byAIR)\n",
    "print('{:7d} ({:4.1f} %) reservations with store information from AIR only, made by AIR'.format(this, this/total*100))\n",
    "this = len(reserves_neither_byHPG)\n",
    "print('{:7d} ({:4.1f} %) reservations with no store information, made by HPG'.format(this, this/total*100))\n",
    "this = len(reserves_neither_byAIR)\n",
    "print('{:7d} ({:4.1f} %) reservations with no store information, made by AIR'.format(this, this/total*100))"
   ]
  },
  {
   "cell_type": "code",
   "execution_count": 6,
   "metadata": {},
   "outputs": [
    {
     "name": "stdout",
     "output_type": "stream",
     "text": [
      "<class 'pandas.core.frame.DataFrame'>\n",
      "RangeIndex: 252108 entries, 0 to 252107\n",
      "Data columns (total 12 columns):\n",
      "hpg_store_id      46019 non-null object\n",
      "air_store_id      252108 non-null object\n",
      "visit_date        252108 non-null object\n",
      "visitors          252108 non-null int64\n",
      "hpg_genre_name    20098 non-null object\n",
      "hpg_area_name     20098 non-null object\n",
      "air_genre_name    226187 non-null object\n",
      "air_area_name     226187 non-null object\n",
      "hpg_latitude      20098 non-null float64\n",
      "hpg_longitude     20098 non-null float64\n",
      "air_latitude      226187 non-null float64\n",
      "air_longitude     226187 non-null float64\n",
      "dtypes: float64(4), int64(1), object(7)\n",
      "memory usage: 23.1+ MB\n"
     ]
    }
   ],
   "source": [
    "visits.info()"
   ]
  },
  {
   "cell_type": "code",
   "execution_count": 7,
   "metadata": {},
   "outputs": [],
   "source": [
    "visits_onlyHPG = visits[(~py.isnan(visits['hpg_latitude']))&(py.isnan(visits['air_latitude']))]\n",
    "visits_onlyAIR = visits[(py.isnan(visits['hpg_latitude']))&(~py.isnan(visits['air_latitude']))]\n",
    "visits_both = visits[(~py.isnan(visits['hpg_latitude']))&(~py.isnan(visits['air_latitude']))]\n",
    "visits_neither = visits[(py.isnan(visits['hpg_latitude']))&(py.isnan(visits['air_latitude']))]"
   ]
  },
  {
   "cell_type": "code",
   "execution_count": 8,
   "metadata": {},
   "outputs": [
    {
     "name": "stdout",
     "output_type": "stream",
     "text": [
      "Number of visitation data and store information:\n",
      "  20098 ( 8.0 %) visitation data with store information from HPG and AIR\n",
      "      0 ( 0.0 %) visitation data with store information from HPG only\n",
      " 206089 (81.7 %) visitation data with store information from AIR only\n",
      "  25921 (10.3 %) visitation data with no store information\n"
     ]
    }
   ],
   "source": [
    "print('Number of visitation data and store information:')\n",
    "total = len(visits)\n",
    "this = len(visits_both)\n",
    "print('{:7d} ({:4.1f} %) visitation data with store information from HPG and AIR'.format(this, this/total*100))\n",
    "this = len(visits_onlyHPG)\n",
    "print('{:7d} ({:4.1f} %) visitation data with store information from HPG only'.format(this, this/total*100))\n",
    "this = len(visits_onlyAIR)\n",
    "print('{:7d} ({:4.1f} %) visitation data with store information from AIR only'.format(this, this/total*100))\n",
    "this = len(visits_neither)\n",
    "print('{:7d} ({:4.1f} %) visitation data with no store information'.format(this, this/total*100))"
   ]
  },
  {
   "cell_type": "markdown",
   "metadata": {},
   "source": [
    "## Compiling information about area"
   ]
  },
  {
   "cell_type": "code",
   "execution_count": 9,
   "metadata": {},
   "outputs": [
    {
     "data": {
      "text/plain": [
       "Tōkyō-to Shinjuku-ku None              47468\n",
       "Osaka Prefecture Osaka None            35767\n",
       "Hyōgo-ken Kōbe-shi None                35750\n",
       "Ōsaka-fu Ōsaka-shi Shinsaibashisuji    34268\n",
       "Hiroshima-ken Hiroshima-shi Hondōri    31561\n",
       "Name: hpg_area_name, dtype: int64"
      ]
     },
     "execution_count": 9,
     "metadata": {},
     "output_type": "execute_result"
    }
   ],
   "source": [
    "reservations['hpg_area_name'].value_counts().head()"
   ]
  },
  {
   "cell_type": "code",
   "execution_count": 10,
   "metadata": {},
   "outputs": [
    {
     "data": {
      "text/plain": [
       "Tōkyō-to Shibuya-ku Shibuya                   5338\n",
       "Hokkaidō Sapporo-shi Minami 3 Jōnishi         5291\n",
       "Hokkaidō Asahikawa-shi 6 Jōdōri               4502\n",
       "Fukuoka-ken Fukuoka-shi Daimyō                4362\n",
       "Hiroshima-ken Hiroshima-shi Kokutaijimachi    4014\n",
       "Name: air_area_name, dtype: int64"
      ]
     },
     "execution_count": 10,
     "metadata": {},
     "output_type": "execute_result"
    }
   ],
   "source": [
    "reservations['air_area_name'].value_counts().head()"
   ]
  },
  {
   "cell_type": "code",
   "execution_count": 11,
   "metadata": {},
   "outputs": [
    {
     "data": {
      "text/plain": [
       "Tōkyō-to Shibuya-ku None                     1709\n",
       "Hokkaidō Asahikawa-shi 3 Jōdōri              1389\n",
       "Hyōgo-ken Kakogawa-shi Noguchichō Yoshino    1182\n",
       "Fukuoka-ken Fukuoka-shi Daimyō               1037\n",
       "Niigata-ken Niigata-shi Higashiōdōri         1018\n",
       "Name: hpg_area_name, dtype: int64"
      ]
     },
     "execution_count": 11,
     "metadata": {},
     "output_type": "execute_result"
    }
   ],
   "source": [
    "visits['hpg_area_name'].value_counts().head()"
   ]
  },
  {
   "cell_type": "code",
   "execution_count": 12,
   "metadata": {},
   "outputs": [
    {
     "data": {
      "text/plain": [
       "Fukuoka-ken Fukuoka-shi Daimyō    17213\n",
       "Tōkyō-to Shibuya-ku Shibuya       16039\n",
       "Tōkyō-to Minato-ku Shibakōen      14139\n",
       "Tōkyō-to Shinjuku-ku Kabukichō    11019\n",
       "Tōkyō-to Setagaya-ku Setagaya      8719\n",
       "Name: air_area_name, dtype: int64"
      ]
     },
     "execution_count": 12,
     "metadata": {},
     "output_type": "execute_result"
    }
   ],
   "source": [
    "visits['air_area_name'].value_counts().head()"
   ]
  },
  {
   "cell_type": "code",
   "execution_count": 13,
   "metadata": {},
   "outputs": [],
   "source": [
    "def get_area_hierarchy(area_name):\n",
    "    if not isinstance(area_name, str):\n",
    "        return []\n",
    "    split = area_name.split(' ')\n",
    "    hierarchy = []\n",
    "    if split[1] == 'Prefecture':\n",
    "        split[0] = ' '.join(split[0:2])\n",
    "        split.pop(1)\n",
    "    if len(split[2]) == 1:\n",
    "        split[2] = split[2] + split[3]\n",
    "        split.pop(2)\n",
    "    for name in split:\n",
    "        if name.lower() != 'none':\n",
    "            hierarchy.append(name)\n",
    "    return hierarchy"
   ]
  },
  {
   "cell_type": "code",
   "execution_count": 14,
   "metadata": {},
   "outputs": [],
   "source": [
    "test = reservations['hpg_area_name'].apply(get_area_hierarchy)\n",
    "reservations['hpg_area_level1'] = test.apply(lambda x: x[0] if len(x)>0 else None)\n",
    "reservations['hpg_area_level2'] = test.apply(lambda x: x[1] if len(x)>1 else None)\n",
    "reservations['hpg_area_level3'] = test.apply(lambda x: x[2] if len(x)>2 else None)\n",
    "reservations['hpg_area_level4'] = test.apply(lambda x: ' '.join(x[3:]) if len(x)>3 else None)"
   ]
  },
  {
   "cell_type": "code",
   "execution_count": 15,
   "metadata": {},
   "outputs": [],
   "source": [
    "test = reservations['air_area_name'].apply(get_area_hierarchy)\n",
    "reservations['air_area_level1'] = test.apply(lambda x: x[0] if len(x)>0 else None)\n",
    "reservations['air_area_level2'] = test.apply(lambda x: x[1] if len(x)>1 else None)\n",
    "reservations['air_area_level3'] = test.apply(lambda x: x[2] if len(x)>2 else None)\n",
    "reservations['air_area_level4'] = test.apply(lambda x: ' '.join(x[3:]) if len(x)>3 else None)"
   ]
  },
  {
   "cell_type": "code",
   "execution_count": 16,
   "metadata": {},
   "outputs": [],
   "source": [
    "test = visits['hpg_area_name'].apply(get_area_hierarchy)\n",
    "visits['hpg_area_level1'] = test.apply(lambda x: x[0] if len(x)>0 else None)\n",
    "visits['hpg_area_level2'] = test.apply(lambda x: x[1] if len(x)>1 else None)\n",
    "visits['hpg_area_level3'] = test.apply(lambda x: x[2] if len(x)>2 else None)\n",
    "visits['hpg_area_level4'] = test.apply(lambda x: ' '.join(x[3:]) if len(x)>3 else None)"
   ]
  },
  {
   "cell_type": "code",
   "execution_count": 17,
   "metadata": {},
   "outputs": [],
   "source": [
    "test = visits['air_area_name'].apply(get_area_hierarchy)\n",
    "visits['air_area_level1'] = test.apply(lambda x: x[0] if len(x)>0 else None)\n",
    "visits['air_area_level2'] = test.apply(lambda x: x[1] if len(x)>1 else None)\n",
    "visits['air_area_level3'] = test.apply(lambda x: x[2] if len(x)>2 else None)\n",
    "visits['air_area_level4'] = test.apply(lambda x: ' '.join(x[3:]) if len(x)>3 else None)"
   ]
  },
  {
   "cell_type": "markdown",
   "metadata": {},
   "source": [
    "What cities are most represented in the data?"
   ]
  },
  {
   "cell_type": "code",
   "execution_count": 18,
   "metadata": {},
   "outputs": [
    {
     "data": {
      "text/plain": [
       "<matplotlib.axes._subplots.AxesSubplot at 0x102e9e438>"
      ]
     },
     "execution_count": 18,
     "metadata": {},
     "output_type": "execute_result"
    },
    {
     "data": {
      "image/png": "[encoded data removed]",
      "text/plain": [
       "<matplotlib.figure.Figure at 0x10872a668>"
      ]
     },
     "metadata": {},
     "output_type": "display_data"
    }
   ],
   "source": [
    "onlyHPG = reservations[reservations['service']=='HPG']\n",
    "counts = onlyHPG['hpg_area_level1'].value_counts()\n",
    "sns.countplot(y='hpg_area_level1', data=onlyHPG, order=counts.keys(), palette='Greens_d')"
   ]
  },
  {
   "cell_type": "code",
   "execution_count": 19,
   "metadata": {},
   "outputs": [
    {
     "data": {
      "text/plain": [
       "<matplotlib.axes._subplots.AxesSubplot at 0x151df4978>"
      ]
     },
     "execution_count": 19,
     "metadata": {},
     "output_type": "execute_result"
    },
    {
     "data": {
      "image/png": "[encoded data removed]",
      "text/plain": [
       "<matplotlib.figure.Figure at 0x103d75f28>"
      ]
     },
     "metadata": {},
     "output_type": "display_data"
    }
   ],
   "source": [
    "onlyAIR = reservations[reservations['service']=='AIR']\n",
    "counts = onlyAIR['air_area_level1'].value_counts()\n",
    "sns.countplot(y='air_area_level1', data=onlyAIR, order=counts.keys(), palette='Greens_d')"
   ]
  },
  {
   "cell_type": "code",
   "execution_count": 20,
   "metadata": {},
   "outputs": [
    {
     "data": {
      "image/png": "[encoded data removed]",
      "text/plain": [
       "<matplotlib.figure.Figure at 0x14ee95198>"
      ]
     },
     "metadata": {},
     "output_type": "display_data"
    }
   ],
   "source": [
    "# onlyHPG = reservations[reservations['service']=='HPG']\n",
    "onlyHPG = reservations\n",
    "counts = onlyHPG['hpg_area_name'].value_counts()\n",
    "ax = sns.countplot(x='hpg_area_name', data=onlyHPG, order=counts.keys(), palette='Greens_d')\n",
    "ax.set_xticklabels([])\n",
    "ax.set_yscale('log')"
   ]
  },
  {
   "cell_type": "code",
   "execution_count": 21,
   "metadata": {},
   "outputs": [
    {
     "data": {
      "image/png": "[encoded data removed]",
      "text/plain": [
       "<matplotlib.figure.Figure at 0x155dd6630>"
      ]
     },
     "metadata": {},
     "output_type": "display_data"
    }
   ],
   "source": [
    "# onlyHPG = reservations[reservations['service']=='HPG']\n",
    "onlyHPG = reservations\n",
    "counts = onlyHPG['air_area_name'].value_counts()\n",
    "ax = sns.countplot(x='air_area_name', data=onlyHPG, order=counts.keys(), palette='Greens_d')\n",
    "ax.set_xticklabels([])\n",
    "ax.set_yscale('log')"
   ]
  },
  {
   "cell_type": "markdown",
   "metadata": {},
   "source": [
    "These restaurants are distributed to many cities, not just Tokyo."
   ]
  },
  {
   "cell_type": "markdown",
   "metadata": {},
   "source": [
    "## Distribution by genre\n",
    "\n",
    "We can also see how restaurants are distributed by genres."
   ]
  },
  {
   "cell_type": "code",
   "execution_count": 22,
   "metadata": {},
   "outputs": [
    {
     "data": {
      "text/plain": [
       "<matplotlib.axes._subplots.AxesSubplot at 0x152d05668>"
      ]
     },
     "execution_count": 22,
     "metadata": {},
     "output_type": "execute_result"
    },
    {
     "data": {
      "image/png": "[encoded data removed]",
      "text/plain": [
       "<matplotlib.figure.Figure at 0x14edde668>"
      ]
     },
     "metadata": {},
     "output_type": "display_data"
    }
   ],
   "source": [
    "values = reservations['hpg_genre_name'].value_counts()\n",
    "values = values[values>1000]\n",
    "sns.countplot(y='hpg_genre_name', data=reservations, order=values.index)"
   ]
  },
  {
   "cell_type": "code",
   "execution_count": 23,
   "metadata": {},
   "outputs": [
    {
     "data": {
      "text/plain": [
       "<matplotlib.axes._subplots.AxesSubplot at 0x151c6bc88>"
      ]
     },
     "execution_count": 23,
     "metadata": {},
     "output_type": "execute_result"
    },
    {
     "data": {
      "image/png": "[encoded data removed]",
      "text/plain": [
       "<matplotlib.figure.Figure at 0x151551a90>"
      ]
     },
     "metadata": {},
     "output_type": "display_data"
    }
   ],
   "source": [
    "values = reservations['air_genre_name'].value_counts()\n",
    "values = values[values>10]\n",
    "sns.countplot(y='air_genre_name', data=reservations, order=values.index)"
   ]
  },
  {
   "cell_type": "markdown",
   "metadata": {},
   "source": [
    "Apparently, there is a difference in focus between the two services. HPG focuses on restaurants and most of its stores are of 'Japanese style' food. AIR focuses more on pubs ('Izakaya') and cafes. "
   ]
  },
  {
   "cell_type": "markdown",
   "metadata": {},
   "source": [
    "## Inserting information about day\n",
    "\n",
    "The information about timing is rounded to the nearest hour, always."
   ]
  },
  {
   "cell_type": "code",
   "execution_count": 24,
   "metadata": {},
   "outputs": [],
   "source": [
    "reservations['reserve_date'] = reservations['reserve_datetime'].apply(lambda x: x[:10])\n",
    "reservations['reserve_hour'] = reservations['reserve_datetime'].apply(lambda x: x[11:13]).astype(int)\n",
    "reservations['visit_date'] = reservations['visit_datetime'].apply(lambda x: x[:10])\n",
    "reservations['visit_hour'] = reservations['visit_datetime'].apply(lambda x: x[11:13]).astype(int)\n",
    "reservations.drop('reserve_datetime', axis=1, inplace=True)\n",
    "reservations.drop('visit_datetime', axis=1, inplace=True)"
   ]
  },
  {
   "cell_type": "code",
   "execution_count": 25,
   "metadata": {},
   "outputs": [
    {
     "data": {
      "text/plain": [
       "<matplotlib.axes._subplots.AxesSubplot at 0x14f7d4d68>"
      ]
     },
     "execution_count": 25,
     "metadata": {},
     "output_type": "execute_result"
    },
    {
     "data": {
      "image/png": "[encoded data removed]",
      "text/plain": [
       "<matplotlib.figure.Figure at 0x14db556a0>"
      ]
     },
     "metadata": {},
     "output_type": "display_data"
    }
   ],
   "source": [
    "sns.countplot(x='visit_hour', data=reservations, order=range(24), palette='Greens_d')"
   ]
  },
  {
   "cell_type": "code",
   "execution_count": 26,
   "metadata": {},
   "outputs": [
    {
     "data": {
      "text/plain": [
       "<matplotlib.axes._subplots.AxesSubplot at 0x14fbe3588>"
      ]
     },
     "execution_count": 26,
     "metadata": {},
     "output_type": "execute_result"
    },
    {
     "data": {
      "image/png": "[encoded data removed]",
      "text/plain": [
       "<matplotlib.figure.Figure at 0x146abd320>"
      ]
     },
     "metadata": {},
     "output_type": "display_data"
    }
   ],
   "source": [
    "sns.countplot(x='reserve_hour', data=reservations, order=range(24), palette='Greens_d')"
   ]
  },
  {
   "cell_type": "code",
   "execution_count": 79,
   "metadata": {},
   "outputs": [
    {
     "data": {
      "image/png": "[encoded data removed]",
      "text/plain": [
       "<matplotlib.figure.Figure at 0x151852c18>"
      ]
     },
     "metadata": {},
     "output_type": "display_data"
    }
   ],
   "source": [
    "days = sorted(reservations['visit_date'].unique())\n",
    "ax = sns.countplot(x='visit_date', data=reservations, order=days, palette='Greens_d')\n",
    "ticks = [0,91,182,274,366,456]\n",
    "ax.set_xticks(ticks);\n",
    "ax.set_xticklabels([days[x][5:] for x in ax.get_xticks()]);"
   ]
  },
  {
   "cell_type": "code",
   "execution_count": 28,
   "metadata": {},
   "outputs": [],
   "source": [
    "counts = [(x,y) for x,y in reservations['visit_date'].value_counts().items()]\n",
    "counts.sort(key=lambda x:x[0])\n",
    "fft = py.fft([x[1] for x in counts])"
   ]
  },
  {
   "cell_type": "code",
   "execution_count": 29,
   "metadata": {},
   "outputs": [
    {
     "data": {
      "image/png": "[encoded data removed]",
      "text/plain": [
       "<matplotlib.figure.Figure at 0x152cfac50>"
      ]
     },
     "metadata": {},
     "output_type": "display_data"
    }
   ],
   "source": [
    "fig, ax = py.subplots()\n",
    "y_plot = py.fftshift(fft)\n",
    "x_plot = py.fftshift(py.fftfreq(len(y_plot)))\n",
    "# ax.plot(y_plot.real, 'b.-')\n",
    "# ax.plot(y_plot.imag, 'r.-')\n",
    "ax.plot(x_plot, abs(y_plot), 'k.-')\n",
    "y_lim = ax.get_ylim()\n",
    "# for harmonic in range(-3,4):\n",
    "#     ax.plot([harmonic/7.]*2,y_lim,'y--')\n",
    "ax.set_ylim(y_lim);"
   ]
  },
  {
   "cell_type": "code",
   "execution_count": 30,
   "metadata": {},
   "outputs": [],
   "source": [
    "date_info = pandas.read_csv('Data/date_info.csv')"
   ]
  },
  {
   "cell_type": "code",
   "execution_count": 31,
   "metadata": {},
   "outputs": [],
   "source": [
    "reservations = reservations.merge(\n",
    "    date_info,\n",
    "    left_on = 'reserve_date',\n",
    "    right_on = 'calendar_date',\n",
    ")\n",
    "reservations.rename(columns={'day_of_week': 'reserve_weekday', 'holiday_flg': 'reserve_holiday'}, inplace=True);\n",
    "reservations.drop('calendar_date', axis=1, inplace=True)"
   ]
  },
  {
   "cell_type": "code",
   "execution_count": 32,
   "metadata": {},
   "outputs": [],
   "source": [
    "reservations = reservations.merge(\n",
    "    date_info,\n",
    "    left_on = 'visit_date',\n",
    "    right_on = 'calendar_date',\n",
    ")\n",
    "reservations.rename(columns={'day_of_week': 'visit_weekday', 'holiday_flg': 'visit_holiday'}, inplace=True);\n",
    "reservations.drop('calendar_date', axis=1, inplace=True)"
   ]
  },
  {
   "cell_type": "code",
   "execution_count": 33,
   "metadata": {},
   "outputs": [
    {
     "data": {
      "text/html": [
       "<div>\n",
       "<style scoped>\n",
       "    .dataframe tbody tr th:only-of-type {\n",
       "        vertical-align: middle;\n",
       "    }\n",
       "\n",
       "    .dataframe tbody tr th {\n",
       "        vertical-align: top;\n",
       "    }\n",
       "\n",
       "    .dataframe thead th {\n",
       "        text-align: right;\n",
       "    }\n",
       "</style>\n",
       "<table border=\"1\" class=\"dataframe\">\n",
       "  <thead>\n",
       "    <tr style=\"text-align: right;\">\n",
       "      <th></th>\n",
       "      <th>service</th>\n",
       "      <th>hpg_store_id</th>\n",
       "      <th>air_store_id</th>\n",
       "      <th>reserve_visitors</th>\n",
       "      <th>hpg_genre_name</th>\n",
       "      <th>hpg_area_name</th>\n",
       "      <th>air_genre_name</th>\n",
       "      <th>air_area_name</th>\n",
       "      <th>hpg_latitude</th>\n",
       "      <th>hpg_longitude</th>\n",
       "      <th>...</th>\n",
       "      <th>air_area_level3</th>\n",
       "      <th>air_area_level4</th>\n",
       "      <th>reserve_date</th>\n",
       "      <th>reserve_hour</th>\n",
       "      <th>visit_date</th>\n",
       "      <th>visit_hour</th>\n",
       "      <th>reserve_weekday</th>\n",
       "      <th>reserve_holiday</th>\n",
       "      <th>visit_weekday</th>\n",
       "      <th>visit_holiday</th>\n",
       "    </tr>\n",
       "  </thead>\n",
       "  <tbody>\n",
       "    <tr>\n",
       "      <th>0</th>\n",
       "      <td>HPG</td>\n",
       "      <td>hpg_c63f6f42e088e50f</td>\n",
       "      <td>NaN</td>\n",
       "      <td>1</td>\n",
       "      <td>NaN</td>\n",
       "      <td>NaN</td>\n",
       "      <td>NaN</td>\n",
       "      <td>NaN</td>\n",
       "      <td>NaN</td>\n",
       "      <td>NaN</td>\n",
       "      <td>...</td>\n",
       "      <td>None</td>\n",
       "      <td>None</td>\n",
       "      <td>2016-01-01</td>\n",
       "      <td>9</td>\n",
       "      <td>2016-01-01</td>\n",
       "      <td>11</td>\n",
       "      <td>Friday</td>\n",
       "      <td>1</td>\n",
       "      <td>Friday</td>\n",
       "      <td>1</td>\n",
       "    </tr>\n",
       "    <tr>\n",
       "      <th>1</th>\n",
       "      <td>HPG</td>\n",
       "      <td>hpg_dac72789163a3f47</td>\n",
       "      <td>NaN</td>\n",
       "      <td>3</td>\n",
       "      <td>French</td>\n",
       "      <td>Hyōgo-ken Kōbe-shi None</td>\n",
       "      <td>NaN</td>\n",
       "      <td>NaN</td>\n",
       "      <td>34.692109</td>\n",
       "      <td>135.191698</td>\n",
       "      <td>...</td>\n",
       "      <td>None</td>\n",
       "      <td>None</td>\n",
       "      <td>2016-01-01</td>\n",
       "      <td>6</td>\n",
       "      <td>2016-01-01</td>\n",
       "      <td>13</td>\n",
       "      <td>Friday</td>\n",
       "      <td>1</td>\n",
       "      <td>Friday</td>\n",
       "      <td>1</td>\n",
       "    </tr>\n",
       "    <tr>\n",
       "      <th>2</th>\n",
       "      <td>HPG</td>\n",
       "      <td>hpg_c8e24dcf51ca1eb5</td>\n",
       "      <td>NaN</td>\n",
       "      <td>2</td>\n",
       "      <td>NaN</td>\n",
       "      <td>NaN</td>\n",
       "      <td>NaN</td>\n",
       "      <td>NaN</td>\n",
       "      <td>NaN</td>\n",
       "      <td>NaN</td>\n",
       "      <td>...</td>\n",
       "      <td>None</td>\n",
       "      <td>None</td>\n",
       "      <td>2016-01-01</td>\n",
       "      <td>14</td>\n",
       "      <td>2016-01-01</td>\n",
       "      <td>16</td>\n",
       "      <td>Friday</td>\n",
       "      <td>1</td>\n",
       "      <td>Friday</td>\n",
       "      <td>1</td>\n",
       "    </tr>\n",
       "    <tr>\n",
       "      <th>3</th>\n",
       "      <td>HPG</td>\n",
       "      <td>hpg_24bb207e5fd49d4a</td>\n",
       "      <td>NaN</td>\n",
       "      <td>5</td>\n",
       "      <td>NaN</td>\n",
       "      <td>NaN</td>\n",
       "      <td>NaN</td>\n",
       "      <td>NaN</td>\n",
       "      <td>NaN</td>\n",
       "      <td>NaN</td>\n",
       "      <td>...</td>\n",
       "      <td>None</td>\n",
       "      <td>None</td>\n",
       "      <td>2016-01-01</td>\n",
       "      <td>11</td>\n",
       "      <td>2016-01-01</td>\n",
       "      <td>17</td>\n",
       "      <td>Friday</td>\n",
       "      <td>1</td>\n",
       "      <td>Friday</td>\n",
       "      <td>1</td>\n",
       "    </tr>\n",
       "    <tr>\n",
       "      <th>4</th>\n",
       "      <td>HPG</td>\n",
       "      <td>hpg_25291c542ebb3bc2</td>\n",
       "      <td>NaN</td>\n",
       "      <td>13</td>\n",
       "      <td>NaN</td>\n",
       "      <td>NaN</td>\n",
       "      <td>NaN</td>\n",
       "      <td>NaN</td>\n",
       "      <td>NaN</td>\n",
       "      <td>NaN</td>\n",
       "      <td>...</td>\n",
       "      <td>None</td>\n",
       "      <td>None</td>\n",
       "      <td>2016-01-01</td>\n",
       "      <td>3</td>\n",
       "      <td>2016-01-01</td>\n",
       "      <td>17</td>\n",
       "      <td>Friday</td>\n",
       "      <td>1</td>\n",
       "      <td>Friday</td>\n",
       "      <td>1</td>\n",
       "    </tr>\n",
       "  </tbody>\n",
       "</table>\n",
       "<p>5 rows × 28 columns</p>\n",
       "</div>"
      ],
      "text/plain": [
       "  service          hpg_store_id air_store_id  reserve_visitors hpg_genre_name  \\\n",
       "0     HPG  hpg_c63f6f42e088e50f          NaN                 1            NaN   \n",
       "1     HPG  hpg_dac72789163a3f47          NaN                 3         French   \n",
       "2     HPG  hpg_c8e24dcf51ca1eb5          NaN                 2            NaN   \n",
       "3     HPG  hpg_24bb207e5fd49d4a          NaN                 5            NaN   \n",
       "4     HPG  hpg_25291c542ebb3bc2          NaN                13            NaN   \n",
       "\n",
       "             hpg_area_name air_genre_name air_area_name  hpg_latitude  \\\n",
       "0                      NaN            NaN           NaN           NaN   \n",
       "1  Hyōgo-ken Kōbe-shi None            NaN           NaN     34.692109   \n",
       "2                      NaN            NaN           NaN           NaN   \n",
       "3                      NaN            NaN           NaN           NaN   \n",
       "4                      NaN            NaN           NaN           NaN   \n",
       "\n",
       "   hpg_longitude      ...       air_area_level3  air_area_level4 reserve_date  \\\n",
       "0            NaN      ...                  None             None   2016-01-01   \n",
       "1     135.191698      ...                  None             None   2016-01-01   \n",
       "2            NaN      ...                  None             None   2016-01-01   \n",
       "3            NaN      ...                  None             None   2016-01-01   \n",
       "4            NaN      ...                  None             None   2016-01-01   \n",
       "\n",
       "  reserve_hour  visit_date visit_hour reserve_weekday reserve_holiday  \\\n",
       "0            9  2016-01-01         11          Friday               1   \n",
       "1            6  2016-01-01         13          Friday               1   \n",
       "2           14  2016-01-01         16          Friday               1   \n",
       "3           11  2016-01-01         17          Friday               1   \n",
       "4            3  2016-01-01         17          Friday               1   \n",
       "\n",
       "  visit_weekday visit_holiday  \n",
       "0        Friday             1  \n",
       "1        Friday             1  \n",
       "2        Friday             1  \n",
       "3        Friday             1  \n",
       "4        Friday             1  \n",
       "\n",
       "[5 rows x 28 columns]"
      ]
     },
     "execution_count": 33,
     "metadata": {},
     "output_type": "execute_result"
    }
   ],
   "source": [
    "reservations.head()"
   ]
  },
  {
   "cell_type": "code",
   "execution_count": 36,
   "metadata": {},
   "outputs": [
    {
     "data": {
      "text/plain": [
       "<matplotlib.axes._subplots.AxesSubplot at 0x12e0c1240>"
      ]
     },
     "execution_count": 36,
     "metadata": {},
     "output_type": "execute_result"
    },
    {
     "data": {
      "image/png": "[encoded data removed]",
      "text/plain": [
       "<matplotlib.figure.Figure at 0x12ddee550>"
      ]
     },
     "metadata": {},
     "output_type": "display_data"
    }
   ],
   "source": [
    "order = ['Monday', 'Tuesday', 'Wednesday', 'Thursday', 'Friday', 'Saturday', 'Sunday']\n",
    "sns.countplot(x = 'visit_weekday', data=reservations, order=order, palette='Greens_d')"
   ]
  },
  {
   "cell_type": "code",
   "execution_count": 37,
   "metadata": {},
   "outputs": [
    {
     "data": {
      "text/plain": [
       "<matplotlib.axes._subplots.AxesSubplot at 0x12df45e10>"
      ]
     },
     "execution_count": 37,
     "metadata": {},
     "output_type": "execute_result"
    },
    {
     "data": {
      "image/png": "[encoded data removed]",
      "text/plain": [
       "<matplotlib.figure.Figure at 0x12df85e10>"
      ]
     },
     "metadata": {},
     "output_type": "display_data"
    }
   ],
   "source": [
    "order = ['Monday', 'Tuesday', 'Wednesday', 'Thursday', 'Friday', 'Saturday', 'Sunday']\n",
    "sns.countplot(x = 'reserve_weekday', data=reservations, order=order, palette='Greens_d')"
   ]
  },
  {
   "cell_type": "markdown",
   "metadata": {},
   "source": [
    "As expected, visits are concentrated in Friday and Saturday. Reservations are done throughout the working week."
   ]
  },
  {
   "cell_type": "code",
   "execution_count": 90,
   "metadata": {},
   "outputs": [],
   "source": [
    "aggregate_visits = visits.groupby('visit_date').sum()[['visitors']]\n",
    "aggregate_reservations = reservations[:].groupby('visit_date').sum()[['reserve_visitors']]"
   ]
  },
  {
   "cell_type": "code",
   "execution_count": 92,
   "metadata": {},
   "outputs": [
    {
     "data": {
      "image/png": "[encoded data removed]",
      "text/plain": [
       "<matplotlib.figure.Figure at 0x1308be048>"
      ]
     },
     "metadata": {},
     "output_type": "display_data"
    }
   ],
   "source": [
    "plot_visits = aggregate_visits['visitors']\n",
    "plot_reserves = aggregate_reservations['reserve_visitors']\n",
    "fig, ax = py.subplots()\n",
    "ax.plot(plot_visits, 'b.')\n",
    "ax.plot(plot_reserves, 'r.')\n",
    "ticks = [0,91,182,274,366,456]\n",
    "ticklabels = ['Jan16', 'Apr16', 'Jul16', 'Oct16', 'Jan17', 'Apr17']\n",
    "ax.set_xticks(ticks);\n",
    "ax.set_xticklabels(ticklabels);\n",
    "# ax.set_xticklabels([aggregate_visits.index[x][5:] for x in ticks]);"
   ]
  },
  {
   "cell_type": "code",
   "execution_count": 106,
   "metadata": {},
   "outputs": [],
   "source": [
    "# moving_average_visitors = pandas.rolling_mean(aggregate_visits, window=7)\n",
    "moving_average_visitors = aggregate_visits['visitors'].rolling(window=7, center=False).mean()\n",
    "moving_average_reserves = aggregate_reservations['reserve_visitors'].rolling(window=7, center=False).mean()\n"
   ]
  },
  {
   "cell_type": "markdown",
   "metadata": {},
   "source": [
    "The visitation pattern has a 7-day sazonal pattern. To have a better picture, one can plot a 7-day moving average (rolling window) aggregate of the number of visitors."
   ]
  },
  {
   "cell_type": "code",
   "execution_count": 128,
   "metadata": {},
   "outputs": [
    {
     "data": {
      "image/png": "[encoded data removed]",
      "text/plain": [
       "<matplotlib.figure.Figure at 0x12e85de48>"
      ]
     },
     "metadata": {},
     "output_type": "display_data"
    }
   ],
   "source": [
    "plot_visits = moving_average_visitors\n",
    "plot_reserves = moving_average_reserves\n",
    "fig, ax = py.subplots()\n",
    "ax.plot(plot_visits, 'b.-')\n",
    "ax.plot(plot_reserves, 'r.-')\n",
    "ticks = [0,91,182,274,366,456]\n",
    "ticklabels = ['Jan16', 'Apr16', 'Jul16', 'Oct16', 'Jan17', 'Apr17']\n",
    "ax.set_xticks(ticks);\n",
    "ax.set_xticklabels(ticklabels);\n",
    "# ax.set_xticklabels([aggregate_visits.index[x][5:] for x in ticks]);"
   ]
  },
  {
   "cell_type": "markdown",
   "metadata": {},
   "source": [
    "Visitation data from the AIR systems seems to work well only after July 2016, and it runs throuhg 2017-04-22. The reservation system contains reservations made between 2016-01-01 and 2017-04-22, although the visit date can fall outside this range. This is why we see some reservations made for May 2017, but at a lower number than expected.\n",
    "\n",
    "To mitigate this, we can focus on visits in the period from 2016-07-01 and 2017-04-22."
   ]
  },
  {
   "cell_type": "code",
   "execution_count": 149,
   "metadata": {},
   "outputs": [],
   "source": [
    "reserves_ltd = reservations[(reservations['visit_date']>='2016-07-01')&(reservations['visit_date']<='2017-04-22')]\n",
    "visits_ltd = visits[(visits['visit_date']>='2016-07-01')&(visits['visit_date']<='2017-04-22')]"
   ]
  },
  {
   "cell_type": "code",
   "execution_count": 148,
   "metadata": {},
   "outputs": [
    {
     "name": "stdout",
     "output_type": "stream",
     "text": [
      "<class 'pandas.core.frame.DataFrame'>\n",
      "Int64Index: 1530141 entries, 159908 to 2077979\n",
      "Data columns (total 28 columns):\n",
      "service             1530141 non-null object\n",
      "hpg_store_id        1485034 non-null object\n",
      "air_store_id        95041 non-null object\n",
      "reserve_visitors    1530141 non-null int64\n",
      "hpg_genre_name      659302 non-null object\n",
      "hpg_area_name       659302 non-null object\n",
      "air_genre_name      68908 non-null object\n",
      "air_area_name       68908 non-null object\n",
      "hpg_latitude        659302 non-null float64\n",
      "hpg_longitude       659302 non-null float64\n",
      "air_latitude        68908 non-null float64\n",
      "air_longitude       68908 non-null float64\n",
      "hpg_area_level1     647132 non-null object\n",
      "hpg_area_level2     646383 non-null object\n",
      "hpg_area_level3     428531 non-null object\n",
      "hpg_area_level4     47717 non-null object\n",
      "air_area_level1     68908 non-null object\n",
      "air_area_level2     68908 non-null object\n",
      "air_area_level3     68622 non-null object\n",
      "air_area_level4     15515 non-null object\n",
      "reserve_date        1530141 non-null object\n",
      "reserve_hour        1530141 non-null int64\n",
      "visit_date          1530141 non-null object\n",
      "visit_hour          1530141 non-null int64\n",
      "reserve_weekday     1530141 non-null object\n",
      "reserve_holiday     1530141 non-null int64\n",
      "visit_weekday       1530141 non-null object\n",
      "visit_holiday       1530141 non-null int64\n",
      "dtypes: float64(4), int64(5), object(19)\n",
      "memory usage: 338.5+ MB\n"
     ]
    }
   ],
   "source": [
    "reserves_ltd.info()"
   ]
  },
  {
   "cell_type": "code",
   "execution_count": 151,
   "metadata": {},
   "outputs": [
    {
     "name": "stdout",
     "output_type": "stream",
     "text": [
      "<class 'pandas.core.frame.DataFrame'>\n",
      "Int64Index: 204409 entries, 47699 to 252107\n",
      "Data columns (total 20 columns):\n",
      "hpg_store_id       37459 non-null object\n",
      "air_store_id       204409 non-null object\n",
      "visit_date         204409 non-null object\n",
      "visitors           204409 non-null int64\n",
      "hpg_genre_name     16141 non-null object\n",
      "hpg_area_name      16141 non-null object\n",
      "air_genre_name     183091 non-null object\n",
      "air_area_name      183091 non-null object\n",
      "hpg_latitude       16141 non-null float64\n",
      "hpg_longitude      16141 non-null float64\n",
      "air_latitude       183091 non-null float64\n",
      "air_longitude      183091 non-null float64\n",
      "hpg_area_level1    15565 non-null object\n",
      "hpg_area_level2    15565 non-null object\n",
      "hpg_area_level3    11969 non-null object\n",
      "hpg_area_level4    2266 non-null object\n",
      "air_area_level1    183091 non-null object\n",
      "air_area_level2    183091 non-null object\n",
      "air_area_level3    182278 non-null object\n",
      "air_area_level4    15672 non-null object\n",
      "dtypes: float64(4), int64(1), object(15)\n",
      "memory usage: 32.7+ MB\n"
     ]
    }
   ],
   "source": [
    "visits_ltd.info()"
   ]
  },
  {
   "cell_type": "code",
   "execution_count": 166,
   "metadata": {},
   "outputs": [
    {
     "data": {
      "image/png": "[encoded data removed]",
      "text/plain": [
       "<matplotlib.figure.Figure at 0x1325a3908>"
      ]
     },
     "metadata": {},
     "output_type": "display_data"
    }
   ],
   "source": [
    "aggregate_visits_ltd = visits_ltd.groupby('visit_date').sum()[['visitors']]\n",
    "aggregate_reserves_ltd = reserves_ltd[:].groupby('visit_date').sum()[['reserve_visitors']]\n",
    "window = 7\n",
    "plot_visits = aggregate_visits_ltd['visitors'].rolling(window=window, center=True).mean()\n",
    "plot_reserves = aggregate_reserves_ltd['reserve_visitors'].rolling(window=window, center=True).mean()\n",
    "fig, ax = py.subplots()\n",
    "ax.plot(plot_visits, 'b.-')\n",
    "ax.plot(plot_reserves, 'r.-')\n",
    "ticks = [0,92,184,274]\n",
    "ticklabels = ['Jul16', 'Oct16', 'Jan17', 'Apr17']\n",
    "ax.set_xticks(ticks);\n",
    "ax.set_xticklabels(ticklabels);\n",
    "# ax.set_xticklabels([aggregate_visits.index[x][5:] for x in ticks]);"
   ]
  },
  {
   "cell_type": "code",
   "execution_count": null,
   "metadata": {},
   "outputs": [],
   "source": []
  }
 ],
 "metadata": {
  "kernelspec": {
   "display_name": "Python 3",
   "language": "python",
   "name": "python3"
  },
  "language_info": {
   "codemirror_mode": {
    "name": "ipython",
    "version": 3
   },
   "file_extension": ".py",
   "mimetype": "text/x-python",
   "name": "python",
   "nbconvert_exporter": "python",
   "pygments_lexer": "ipython3",
   "version": "3.6.4"
  }
 },
 "nbformat": 4,
 "nbformat_minor": 2
}
