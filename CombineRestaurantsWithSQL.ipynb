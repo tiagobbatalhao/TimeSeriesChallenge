{
 "cells": [
  {
   "cell_type": "markdown",
   "metadata": {},
   "source": [
    "# Database in SQL\n",
    "\n",
    "Kaggle competition https://www.kaggle.com/c/recruit-restaurant-visitor-forecasting"
   ]
  },
  {
   "cell_type": "code",
   "execution_count": 1,
   "metadata": {},
   "outputs": [],
   "source": [
    "import pylab as py\n",
    "import pandas as pandas\n",
    "from datetime import datetime\n",
    "import seaborn as sns\n",
    "import sqlite3\n",
    "import os"
   ]
  },
  {
   "cell_type": "code",
   "execution_count": 2,
   "metadata": {},
   "outputs": [],
   "source": [
    "DATABASE_FILENAME = 'restaurant_forecasting.sqlite'\n",
    "POPULATE_DATABASE = False\n",
    "def get_database():\n",
    "    database = sqlite3.connect(DATABASE_FILENAME)\n",
    "    return database\n",
    "def reset_database():\n",
    "    os.remove(DATABASE_FILENAME)\n",
    "    return get_database()"
   ]
  },
  {
   "cell_type": "markdown",
   "metadata": {},
   "source": [
    "## Creating database"
   ]
  },
  {
   "cell_type": "code",
   "execution_count": 3,
   "metadata": {},
   "outputs": [],
   "source": [
    "if POPULATE_DATABASE:\n",
    "    database = reset_database()\n",
    "else:\n",
    "    database = get_database()"
   ]
  },
  {
   "cell_type": "code",
   "execution_count": 4,
   "metadata": {},
   "outputs": [],
   "source": [
    "if POPULATE_DATABASE:\n",
    "    table = 'reserves'\n",
    "    columns = {\n",
    "        'service': 'CHAR(3)',\n",
    "        'air_store_id': 'CHAR(20)',\n",
    "        'hpg_store_id': 'CHAR(20)',\n",
    "        'visit_datetime': 'DATETIME',\n",
    "        'reserve_datetime': 'DATETIME',\n",
    "        'reserve_visitors': 'UNSIGNED SMALLINT',\n",
    "    }\n",
    "    sql_command = 'CREATE TABLE {name:} ( {column_names:} ) ;'.format(**{\n",
    "        'name': table,\n",
    "        'column_names': ' , '.join([' {} {} '.format(x,y) for x,y in columns.items()])\n",
    "    })\n",
    "    try:\n",
    "        database.execute(sql_command)\n",
    "        database.commit()\n",
    "    except sqlite3.OperationalError:\n",
    "        pass"
   ]
  },
  {
   "cell_type": "code",
   "execution_count": 5,
   "metadata": {},
   "outputs": [],
   "source": [
    "if POPULATE_DATABASE:\n",
    "    table = 'stores'\n",
    "    columns = {\n",
    "        'hpg_store_id': 'CHAR(20) UNIQUE',\n",
    "        'hpg_genre_name': 'TINYTEXT',\n",
    "        'hpg_area_name': 'TINYTEXT',\n",
    "        'hpg_latitude': 'FLOAT',\n",
    "        'hpg_longitude': 'FLOAT',\n",
    "        'air_store_id': 'CHAR(20) UNIQUE',\n",
    "        'air_genre_name': 'TINYTEXT',\n",
    "        'air_area_name': 'TINYTEXT',\n",
    "        'air_latitude': 'FLOAT',\n",
    "        'air_longitude': 'FLOAT',\n",
    "    }\n",
    "    sql_command = 'CREATE TABLE {name:} ( {column_names:} ) ;'.format(**{\n",
    "        'name': table,\n",
    "        'column_names': ' , '.join([' {} {} '.format(x,y) for x,y in columns.items()])\n",
    "    })\n",
    "    try:\n",
    "        database.execute(sql_command)\n",
    "        database.commit()\n",
    "    except sqlite3.OperationalError:\n",
    "        pass"
   ]
  },
  {
   "cell_type": "code",
   "execution_count": 6,
   "metadata": {},
   "outputs": [],
   "source": [
    "if POPULATE_DATABASE:\n",
    "    table = 'visits'\n",
    "    columns = {\n",
    "        'air_store_id': 'CHAR(20)',\n",
    "        'hpg_store_id': 'CHAR(20)',\n",
    "        'visit_date': 'DATE',\n",
    "        'visitors': 'UNSIGNED SMALLINT',\n",
    "    }\n",
    "    sql_command = 'CREATE TABLE {name:} ( {column_names:} ) ;'.format(**{\n",
    "        'name': table,\n",
    "        'column_names': ' , '.join([' {} {} '.format(x,y) for x,y in columns.items()])\n",
    "    })\n",
    "    try:\n",
    "        database.execute(sql_command)\n",
    "        database.commit()\n",
    "    except sqlite3.OperationalError:\n",
    "        pass"
   ]
  },
  {
   "cell_type": "markdown",
   "metadata": {},
   "source": [
    "## Insert reservations made with HPG"
   ]
  },
  {
   "cell_type": "code",
   "execution_count": 7,
   "metadata": {},
   "outputs": [],
   "source": [
    "if POPULATE_DATABASE:\n",
    "    data_hpg_reserve = pandas.read_csv('Data/hpg_reserve.csv')"
   ]
  },
  {
   "cell_type": "code",
   "execution_count": 8,
   "metadata": {},
   "outputs": [],
   "source": [
    "if POPULATE_DATABASE:\n",
    "    for k,reserve in data_hpg_reserve.iterrows():\n",
    "        add = {\n",
    "            'service': 'HPG',\n",
    "            'hpg_store_id': reserve['hpg_store_id'],\n",
    "            'visit_datetime': reserve['visit_datetime'],\n",
    "            'reserve_datetime': reserve['reserve_datetime'],\n",
    "            'reserve_visitors': reserve['reserve_visitors'],\n",
    "        }\n",
    "        sql_command = 'INSERT INTO reserves ( {columns:} ) VALUES ( {values:} )'.format(**{\n",
    "            'columns': ' , '.join(add.keys()),\n",
    "            'values': ' , '.join([':'+x for x in add.keys()]),\n",
    "        })\n",
    "        database.execute(sql_command, add)\n",
    "    database.commit()"
   ]
  },
  {
   "cell_type": "markdown",
   "metadata": {},
   "source": [
    "## Insert reservations made with AIR"
   ]
  },
  {
   "cell_type": "code",
   "execution_count": 9,
   "metadata": {},
   "outputs": [],
   "source": [
    "if POPULATE_DATABASE:\n",
    "    data_air_reserve = pandas.read_csv('Data/air_reserve.csv')"
   ]
  },
  {
   "cell_type": "code",
   "execution_count": 10,
   "metadata": {},
   "outputs": [],
   "source": [
    "if POPULATE_DATABASE:\n",
    "    for k,reserve in data_air_reserve.iterrows():\n",
    "        add = {\n",
    "            'service': 'AIR',\n",
    "            'air_store_id': reserve['air_store_id'],\n",
    "            'visit_datetime': reserve['visit_datetime'],\n",
    "            'reserve_datetime': reserve['reserve_datetime'],\n",
    "            'reserve_visitors': reserve['reserve_visitors'],\n",
    "        }\n",
    "        sql_command = 'INSERT INTO reserves ( {columns:} ) VALUES ( {values:} )'.format(**{\n",
    "            'columns': ' , '.join(add.keys()),\n",
    "            'values': ' , '.join([':'+x for x in add.keys()]),\n",
    "        })\n",
    "        database.execute(sql_command, add)\n",
    "    database.commit()"
   ]
  },
  {
   "cell_type": "markdown",
   "metadata": {},
   "source": [
    "## Insert visit data obtained from AIR"
   ]
  },
  {
   "cell_type": "code",
   "execution_count": 11,
   "metadata": {},
   "outputs": [],
   "source": [
    "if POPULATE_DATABASE:\n",
    "    data_air_visit = pandas.read_csv('Data/air_visit_data.csv')"
   ]
  },
  {
   "cell_type": "code",
   "execution_count": 12,
   "metadata": {},
   "outputs": [],
   "source": [
    "if POPULATE_DATABASE:\n",
    "    for k,reserve in data_air_visit.iterrows():\n",
    "        add = {\n",
    "            'air_store_id': reserve['air_store_id'],\n",
    "            'visit_date': reserve['visit_date'],\n",
    "            'visitors': reserve['visitors'],\n",
    "        }\n",
    "        sql_command = 'INSERT INTO visits ( {columns:} ) VALUES ( {values:} )'.format(**{\n",
    "            'columns': ' , '.join(add.keys()),\n",
    "            'values': ' , '.join([':'+x for x in add.keys()]),\n",
    "        })\n",
    "        database.execute(sql_command, add)\n",
    "    database.commit()"
   ]
  },
  {
   "cell_type": "markdown",
   "metadata": {},
   "source": [
    "## Ling AIR id with HPG id"
   ]
  },
  {
   "cell_type": "code",
   "execution_count": 13,
   "metadata": {},
   "outputs": [],
   "source": [
    "if POPULATE_DATABASE:\n",
    "    relation = pandas.read_csv('Data/store_id_relation.csv')"
   ]
  },
  {
   "cell_type": "code",
   "execution_count": 14,
   "metadata": {},
   "outputs": [],
   "source": [
    "if POPULATE_DATABASE:\n",
    "    sql_commands = []\n",
    "    sql_commands.append( \"\"\"\n",
    "        UPDATE reserves\n",
    "        SET air_store_id = :air_store_id\n",
    "        WHERE hpg_store_id = :hpg_store_id ;\n",
    "        \"\"\" )\n",
    "    sql_commands.append( \"\"\"\n",
    "        UPDATE reserves\n",
    "        SET hpg_store_id = :hpg_store_id\n",
    "        WHERE air_store_id = :air_store_id ;\n",
    "        \"\"\" )\n",
    "    sql_commands.append( \"\"\"\n",
    "        UPDATE visits\n",
    "        SET hpg_store_id = :hpg_store_id\n",
    "        WHERE air_store_id = :air_store_id ;\n",
    "        \"\"\" )\n",
    "    for k,link in relation.iterrows():\n",
    "        dic = {\n",
    "            'air_store_id': link['air_store_id'],\n",
    "            'hpg_store_id': link['hpg_store_id'],\n",
    "        }\n",
    "        for sql_command in sql_commands:\n",
    "            database.execute(sql_command,dic)\n",
    "    database.commit()"
   ]
  },
  {
   "cell_type": "markdown",
   "metadata": {},
   "source": [
    "## Store information"
   ]
  },
  {
   "cell_type": "code",
   "execution_count": 15,
   "metadata": {},
   "outputs": [],
   "source": [
    "if POPULATE_DATABASE:\n",
    "    relation = pandas.read_csv('Data/store_id_relation.csv')\n",
    "    hpg_store_info = pandas.read_csv('Data/hpg_store_info.csv')\n",
    "    air_store_info = pandas.read_csv('Data/air_store_info.csv')\n",
    "    relation_ids = {x:y for x,y in zip(relation['air_store_id'],relation['hpg_store_id'])}    "
   ]
  },
  {
   "cell_type": "code",
   "execution_count": 16,
   "metadata": {},
   "outputs": [],
   "source": [
    "if POPULATE_DATABASE:\n",
    "    for k, store in hpg_store_info.iterrows():\n",
    "        add = {\n",
    "            'hpg_store_id': store['hpg_store_id'],\n",
    "            'hpg_genre_name': store['hpg_genre_name'],\n",
    "            'hpg_area_name': store['hpg_area_name'],\n",
    "            'hpg_latitude': store['latitude'],\n",
    "            'hpg_longitude': store['longitude'],\n",
    "        }\n",
    "        sql_command = 'INSERT INTO stores ( {columns:} ) VALUES ( {values:} ) ;'.format(**{\n",
    "            'columns': ' , '.join(add.keys()),\n",
    "            'values': ' , '.join([':' + x for x in add.keys()]),\n",
    "        })\n",
    "        try:\n",
    "            database.execute(sql_command, add)\n",
    "        except sqlite3.IntegrityError:\n",
    "            pass\n",
    "            \n",
    "    for k, store in air_store_info.iterrows():\n",
    "        add = {\n",
    "            'air_store_id': store['air_store_id'],\n",
    "            'air_genre_name': store['air_genre_name'],\n",
    "            'air_area_name': store['air_area_name'],\n",
    "            'air_latitude': round(store['latitude'],6),\n",
    "            'air_longitude': round(store['longitude'],6),\n",
    "        }\n",
    "        if store['air_store_id'] in relation_ids.keys():\n",
    "            sql_command = 'UPDATE stores SET {set_clause:} WHERE hpg_store_id = :hpg_store_id ;'.format(**{\n",
    "                'set_clause': ' , '.join(['{} = :{}'.format(x,x) for x in add.keys()])\n",
    "            })\n",
    "            hpg_id = relation_ids[store['air_store_id']]\n",
    "            add.update({'hpg_store_id': hpg_id})\n",
    "            try:\n",
    "                database.execute(sql_command, add)\n",
    "            except sqlite3.IntegrityError:\n",
    "                pass\n",
    "\n",
    "        else:\n",
    "            sql_command = 'INSERT INTO stores ( {columns:} ) VALUES ( {values:} ) ;'.format(**{\n",
    "                'columns': ' , '.join(add.keys()),\n",
    "                'values': ' , '.join([':' + x for x in add.keys()]),\n",
    "            })\n",
    "            try:\n",
    "                database.execute(sql_command, add)\n",
    "            except sqlite3.IntegrityError:\n",
    "                pass\n",
    "\n",
    "database.commit()"
   ]
  },
  {
   "cell_type": "markdown",
   "metadata": {},
   "source": [
    "## How many common restaurants, and how popular are they?"
   ]
  },
  {
   "cell_type": "code",
   "execution_count": 17,
   "metadata": {},
   "outputs": [],
   "source": [
    "sql_command = \"\"\"\n",
    "    SELECT * FROM stores\n",
    "    WHERE hpg_store_id IS NOT NULL\n",
    "    AND air_store_id IS NOT NULL\n",
    "    \"\"\"\n",
    "stores_common = database.execute(sql_command).fetchall()\n",
    "sql_command = \"\"\"\n",
    "    SELECT * FROM stores\n",
    "    WHERE hpg_store_id IS NOT NULL\n",
    "    AND air_store_id IS NULL\n",
    "    \"\"\"\n",
    "stores_onlyHPG = database.execute(sql_command).fetchall()\n",
    "sql_command = \"\"\"\n",
    "    SELECT * FROM stores\n",
    "    WHERE hpg_store_id IS NULL\n",
    "    AND air_store_id IS NOT NULL\n",
    "    \"\"\"\n",
    "stores_onlyAIR = database.execute(sql_command).fetchall()\n",
    "sql_command = \"\"\"\n",
    "    SELECT * FROM stores\n",
    "    WHERE hpg_store_id IS NULL\n",
    "    AND air_store_id IS NULL\n",
    "    \"\"\"\n",
    "stores_neither = database.execute(sql_command).fetchall()"
   ]
  },
  {
   "cell_type": "code",
   "execution_count": 18,
   "metadata": {},
   "outputs": [
    {
     "name": "stdout",
     "output_type": "stream",
     "text": [
      "63\n",
      "4627\n",
      "679\n",
      "0\n"
     ]
    }
   ],
   "source": [
    "print(len(stores_common))\n",
    "print(len(stores_onlyHPG))\n",
    "print(len(stores_onlyAIR))\n",
    "print(len(stores_neither))"
   ]
  },
  {
   "cell_type": "markdown",
   "metadata": {},
   "source": [
    "## Are all restaurants represented?"
   ]
  },
  {
   "cell_type": "code",
   "execution_count": 19,
   "metadata": {},
   "outputs": [],
   "source": [
    "columns = {\n",
    "    'reserves.service' : 'service',\n",
    "    'reserves.hpg_store_id' : 'hpg_store_id',\n",
    "    'reserves.air_store_id' : 'air_store_id',\n",
    "    'reserves.visit_datetime' : 'visit_datetime',\n",
    "    'reserves.reserve_datetime' : 'reserve_datetime',\n",
    "    'reserves.reserve_visitors' : 'reserve_visitors',\n",
    "    'stores.hpg_genre_name' : 'hpg_genre_name',\n",
    "    'stores.hpg_area_name' : 'hpg_area_name',\n",
    "    'stores.air_genre_name' : 'air_genre_name',\n",
    "    'stores.air_area_name' : 'air_area_name',\n",
    "    'stores.hpg_latitude' : 'hpg_latitude',\n",
    "    'stores.hpg_longitude' : 'hpg_longitude',\n",
    "    'stores.air_latitude' : 'air_latitude',\n",
    "    'stores.air_longitude' : 'air_longitude',\n",
    "}"
   ]
  },
  {
   "cell_type": "code",
   "execution_count": 20,
   "metadata": {},
   "outputs": [],
   "source": [
    "cursor = database.cursor()\n",
    "sql_command = \"\"\"\n",
    "    SELECT {}\n",
    "    FROM reserves LEFT JOIN stores \n",
    "    ON (reserves.hpg_store_id = stores.hpg_store_id OR reserves.air_store_id = stores.air_store_id)\n",
    "    ORDER BY reserves.visit_datetime\n",
    "    ; \"\"\".format(','.join(columns.keys()),','.join(columns.keys()))\n",
    "execution = cursor.execute(sql_command)\n",
    "results_all = cursor.fetchall()\n",
    "reserves_all = pandas.DataFrame(results_all)\n",
    "reserves_all.columns = columns.values()"
   ]
  },
  {
   "cell_type": "code",
   "execution_count": 21,
   "metadata": {},
   "outputs": [],
   "source": [
    "reserves_inHPG = [x for x in results_all if x[0]=='HPG']\n",
    "reserves_inAIR = [x for x in results_all if x[0]=='AIR']"
   ]
  },
  {
   "cell_type": "code",
   "execution_count": 22,
   "metadata": {},
   "outputs": [
    {
     "name": "stdout",
     "output_type": "stream",
     "text": [
      "0.9558569846198544\n",
      "0.04414301538014563\n"
     ]
    }
   ],
   "source": [
    "print(len(reserves_inHPG) / len(results_all))\n",
    "print(len(reserves_inAIR) / len(results_all))"
   ]
  },
  {
   "cell_type": "code",
   "execution_count": 23,
   "metadata": {},
   "outputs": [],
   "source": [
    "reserves_common = [x for x in results_all if x[8]!=None and x[6]!=None]\n",
    "reserves_onlyAIR = [x for x in results_all if x[8]!=None and x[6]==None]\n",
    "reserves_onlyHPG = [x for x in results_all if x[8]==None and x[6]!=None]\n",
    "reserves_neither = [x for x in results_all if x[8]==None and x[6]==None]"
   ]
  },
  {
   "cell_type": "code",
   "execution_count": 24,
   "metadata": {},
   "outputs": [
    {
     "name": "stdout",
     "output_type": "stream",
     "text": [
      "0.014183604132082125\n",
      "0.4098919194265011\n",
      "0.0268141891472157\n",
      "0.5491102872942011\n"
     ]
    }
   ],
   "source": [
    "print(len(reserves_common) / len(results_all))\n",
    "print(len(reserves_onlyHPG) / len(results_all))\n",
    "print(len(reserves_onlyAIR) / len(results_all))\n",
    "print(len(reserves_neither) / len(results_all))"
   ]
  },
  {
   "cell_type": "markdown",
   "metadata": {},
   "source": [
    "## Summary of store information about reservations\n",
    "\n",
    "There are a total of about 2M (2092698) reservations.\n",
    "\n",
    "With respect to the service used, the breakdown is\n",
    "* 95.6% were done in the HPG system.\n",
    "* 4.4% were done in the AIR system.\n",
    "\n",
    "With respect to stores, the breakdown is\n",
    "* 1.4% were done in 63 restaurants present in both AIR and HPG (of these, 54.4% were done with AIR and 45.6% were done with HPG).\n",
    "* 2.7% were done in 183 restaurants present only in the AIR system.\n",
    "* 41.0% were done in 4627 restaurants present only in the HPG system.\n",
    "* 54.9% were done in 8722 restaurants for which no information is available (of these, 1.8% were done with AIR and 98.2% were done with HPG).\n"
   ]
  },
  {
   "cell_type": "markdown",
   "metadata": {},
   "source": [
    "## Export data"
   ]
  },
  {
   "cell_type": "code",
   "execution_count": 25,
   "metadata": {},
   "outputs": [],
   "source": [
    "with open('reservations.csv','w') as f:\n",
    "    reserves_all.to_csv(f,index=False)"
   ]
  },
  {
   "cell_type": "markdown",
   "metadata": {},
   "source": [
    "# Visitation data"
   ]
  },
  {
   "cell_type": "code",
   "execution_count": 26,
   "metadata": {},
   "outputs": [],
   "source": [
    "columns = {\n",
    "    'visits.hpg_store_id' : 'hpg_store_id',\n",
    "    'visits.air_store_id' : 'air_store_id',\n",
    "    'visits.visit_date' : 'visit_date',\n",
    "    'visits.visitors' : 'visitors',\n",
    "    'stores.hpg_genre_name' : 'hpg_genre_name',\n",
    "    'stores.hpg_area_name' : 'hpg_area_name',\n",
    "    'stores.air_genre_name' : 'air_genre_name',\n",
    "    'stores.air_area_name' : 'air_area_name',\n",
    "    'stores.hpg_latitude' : 'hpg_latitude',\n",
    "    'stores.hpg_longitude' : 'hpg_longitude',\n",
    "    'stores.air_latitude' : 'air_latitude',\n",
    "    'stores.air_longitude' : 'air_longitude',\n",
    "}"
   ]
  },
  {
   "cell_type": "code",
   "execution_count": 27,
   "metadata": {},
   "outputs": [],
   "source": [
    "cursor = database.cursor()\n",
    "sql_command = \"\"\"\n",
    "    SELECT {}\n",
    "    FROM visits LEFT JOIN stores\n",
    "    ON (visits.air_store_id = stores.air_store_id or visits.hpg_store_id = stores.hpg_store_id)\n",
    "    ORDER BY visits.visit_date\n",
    "    ; \"\"\".format(','.join(columns.keys()),','.join(columns.keys()))\n",
    "execution = cursor.execute(sql_command)\n",
    "results_all = cursor.fetchall()\n",
    "visits_all = pandas.DataFrame(results_all)\n",
    "visits_all.columns = columns.values()"
   ]
  },
  {
   "cell_type": "code",
   "execution_count": 28,
   "metadata": {},
   "outputs": [],
   "source": [
    "with open('visits.csv','w') as f:\n",
    "    visits_all.to_csv(f,index=False)"
   ]
  },
  {
   "cell_type": "code",
   "execution_count": null,
   "metadata": {},
   "outputs": [],
   "source": []
  }
 ],
 "metadata": {
  "kernelspec": {
   "display_name": "Python 3",
   "language": "python",
   "name": "python3"
  },
  "language_info": {
   "codemirror_mode": {
    "name": "ipython",
    "version": 3
   },
   "file_extension": ".py",
   "mimetype": "text/x-python",
   "name": "python",
   "nbconvert_exporter": "python",
   "pygments_lexer": "ipython3",
   "version": "3.6.4"
  }
 },
 "nbformat": 4,
 "nbformat_minor": 2
}
